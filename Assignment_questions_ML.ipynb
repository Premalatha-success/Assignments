{
 "cells": [
  {
   "cell_type": "markdown",
   "id": "3bff56f7",
   "metadata": {},
   "source": [
    "### What is the distribution  of preferred foot?\n"
   ]
  },
  {
   "cell_type": "code",
   "execution_count": null,
   "id": "4e975883",
   "metadata": {},
   "outputs": [],
   "source": []
  },
  {
   "cell_type": "markdown",
   "id": "87dfa697",
   "metadata": {},
   "source": [
    "### How can we visualize the age distribution of players?"
   ]
  },
  {
   "cell_type": "code",
   "execution_count": null,
   "id": "999498da",
   "metadata": {},
   "outputs": [],
   "source": []
  },
  {
   "cell_type": "markdown",
   "id": "470a541c",
   "metadata": {},
   "source": [
    "### What is the international reputation of left and right foot?"
   ]
  },
  {
   "cell_type": "code",
   "execution_count": null,
   "id": "90ba9ddc",
   "metadata": {},
   "outputs": [],
   "source": []
  },
  {
   "cell_type": "markdown",
   "id": "7e661808",
   "metadata": {},
   "source": [
    "### What is the different work rate of the Players?"
   ]
  },
  {
   "cell_type": "code",
   "execution_count": null,
   "id": "fcdf742d",
   "metadata": {},
   "outputs": [],
   "source": []
  },
  {
   "cell_type": "markdown",
   "id": "b30da10e",
   "metadata": {},
   "source": [
    "### Top 10 countries with most number of players"
   ]
  },
  {
   "cell_type": "code",
   "execution_count": null,
   "id": "257c3377",
   "metadata": {},
   "outputs": [],
   "source": []
  },
  {
   "cell_type": "markdown",
   "id": "160a7d33",
   "metadata": {},
   "source": [
    "### What is the work rate of players segregated by preferred foot?"
   ]
  },
  {
   "cell_type": "code",
   "execution_count": null,
   "id": "cf2d7f02",
   "metadata": {},
   "outputs": [],
   "source": []
  },
  {
   "cell_type": "markdown",
   "id": "c3c04d90",
   "metadata": {},
   "source": [
    "### Number of players at different positions? \n",
    "\n"
   ]
  },
  {
   "cell_type": "code",
   "execution_count": null,
   "id": "71443b30",
   "metadata": {},
   "outputs": [],
   "source": []
  },
  {
   "cell_type": "markdown",
   "id": "3fff68c9",
   "metadata": {},
   "source": [
    "### Age distribution in top countries"
   ]
  },
  {
   "cell_type": "code",
   "execution_count": null,
   "id": "2551b489",
   "metadata": {},
   "outputs": [],
   "source": []
  },
  {
   "cell_type": "markdown",
   "id": "689fb46b",
   "metadata": {},
   "source": [
    "### What is the distribution of overall score of players from top countries?"
   ]
  },
  {
   "cell_type": "code",
   "execution_count": null,
   "id": "b62936fb",
   "metadata": {},
   "outputs": [],
   "source": []
  }
 ],
 "metadata": {
  "kernelspec": {
   "display_name": "Python 3 (ipykernel)",
   "language": "python",
   "name": "python3"
  },
  "language_info": {
   "codemirror_mode": {
    "name": "ipython",
    "version": 3
   },
   "file_extension": ".py",
   "mimetype": "text/x-python",
   "name": "python",
   "nbconvert_exporter": "python",
   "pygments_lexer": "ipython3",
   "version": "3.10.9"
  }
 },
 "nbformat": 4,
 "nbformat_minor": 5
}
